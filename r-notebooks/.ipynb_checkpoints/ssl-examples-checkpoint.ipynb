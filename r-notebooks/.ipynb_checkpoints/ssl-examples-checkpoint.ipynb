{
 "cells": [
  {
   "cell_type": "markdown",
   "metadata": {},
   "source": [
    "# Package ‘SSL’\n",
    "\n",
    "Type Package<br>\n",
    "Title Semi-Supervised Learning<br>\n",
    "Version 0.1<br>\n",
    "Date 2016-05-01<br>\n",
    "Author Junxiang Wang<br>\n",
    "Maintainer Junxiang Wang <xianggebenben@163.com><br>\n",
    "Description Semi-supervised learning has attracted the attention of machine learning community because of its high accuracy with less annotating effort compared with supervised learning.The question that semi-supervised learning wants to address is: given a relatively small labeled dataset and a large unlabeled dataset, how to design classification algorithms learning from both ? This package is a collection of some classical semi-supervised learning algorithms in the last few decades.<br>\n",
    "License GPL (>= 3)<br>\n",
    "LazyData TRUE<br>\n",
    "RoxygenNote 5.0.1<br>\n",
    "Depends R (>= 3.2)<br>\n",
    "Imports NetPreProc (>= 1.1), Rcpp (>= 0.12.2), caret (>= 6.0-52),\n",
    "proxy (>= 0.4-15), xgboost (>= 0.4), klaR (>= 0.6-12), e1071\n",
    "(>= 1.6-7), stats (>= 3.2)<br>\n",
    "LinkingTo Rcpp<br>\n",
    "NeedsCompilation yes<br>\n",
    "Repository CRAN<br>\n",
    "Date/Publication 2016-05-14 23:12:09<br>\n",
    "\n",
    "## Algorithm\n",
    "1. sslCoTrain\n",
    "1. sslGmmEM\n",
    "1. sslLabelProp\n",
    "1. sslLapRLS\n",
    "1. sslLDS\n",
    "1. sslLLGC\n",
    "1. sslMarkovRandomWalks\n",
    "1. sslMincut\n",
    "1. sslRegress\n",
    "1. sslSelfTrain"
   ]
  },
  {
   "cell_type": "code",
   "execution_count": 1,
   "metadata": {},
   "outputs": [],
   "source": [
    "library(SSL)"
   ]
  },
  {
   "cell_type": "code",
   "execution_count": 4,
   "metadata": {},
   "outputs": [],
   "source": [
    "# Co-training\n",
    "data(iris)\n",
    "xl<-iris[,1:4]\n",
    "#Suppose we know the first twenty observations of each class\n",
    "#and we want to predict the remaining with co-training\n",
    "# 1 setosa, 2 versicolor, 3 virginica\n",
    "yl<-rep(1:3,each=20)\n",
    "known.label <-c(1:20,51:70,101:120)\n",
    "xu<-xl[-known.label,]\n",
    "xl<-xl[known.label,]\n",
    "yu<-sslCoTrain(xl,yl,xu,method1=\"xgb\",nrounds1 = 100,method2=\"xgb\",nrounds2 = 100,n=60)"
   ]
  },
  {
   "cell_type": "code",
   "execution_count": 9,
   "metadata": {},
   "outputs": [],
   "source": [
    "#  Gaussian Mixture Model with an EM Algorithm\n",
    "data(iris)\n",
    "xl<-iris[,-5]\n",
    "#Suppose we know the first twenty observations of each class\n",
    "#and we want to predict the remaining with Gaussian Mixture Model\n",
    "#1 setosa, 2 versicolor, 3 virginica\n",
    "yl<-rep(1:3,each=20)\n",
    "known.label <-c(1:20,51:70,101:120)\n",
    "xu<-xl[-known.label,]\n",
    "xl<-xl[known.label,]\n",
    "l<-sslGmmEM(xl,yl,xu)"
   ]
  },
  {
   "cell_type": "code",
   "execution_count": 10,
   "metadata": {},
   "outputs": [],
   "source": [
    "# Label Propagation\n",
    "data(iris)\n",
    "x<-iris[,1:4]\n",
    "#Suppose we know the first twenty observations of each class and we want to propagate\n",
    "#these labels to unlabeled data.\n",
    "# 1 setosa, 2 versicolor, 3 virginica\n",
    "y<-rep(1:3,each =20)\n",
    "known.label <-c(1:20,51:70,101:120)\n",
    "f1<-sslLabelProp(x,y,known.label,graph.type=\"enn\",epsilon = 0.5)\n",
    "f2<-sslLabelProp(x,y,known.label,graph.type=\"knn\",k =10)\n",
    "f3<-sslLabelProp(x,y,known.label,graph.type=\"tanh\",alpha1=-2,alpha2=1)\n",
    "f4<-sslLabelProp(x,y,known.label,graph.type=\"exp\",alpha = 1)"
   ]
  },
  {
   "cell_type": "code",
   "execution_count": 11,
   "metadata": {},
   "outputs": [],
   "source": [
    "#  Laplacian Regularized Least Squares\n",
    "data(iris)\n",
    "xl<-iris[c(1:20,51:70),-5]\n",
    "xu<-iris[c(21:50,71:100),-5]\n",
    "yl<-rep(c(1,-1),each=20)\n",
    "# combinations of different graph types and kernel types\n",
    "# graph.type =knn, kernel =linear\n",
    "yu1<-sslLapRLS(xl,yl,xu,graph.type=\"knn\",k=10,kernel=\"linear\",c1=1)\n",
    "# graph.type =knn, kernel =polynomial\n",
    "yu2<-sslLapRLS(xl,yl,xu,graph.type=\"knn\",k=10,kernel=\"polynomial\",c2=1,deg=2,alpha3=1)\n",
    "# graph.type =knn, kernel =gaussian\n",
    "yu3<-sslLapRLS(xl,yl,xu,graph.type=\"knn\",k=10,kernel=\"gaussian\",gamma=1)\n",
    "# graph.type =knn, kernel =sigmoid\n",
    "yu4<-sslLapRLS(xl,yl,xu,graph.type=\"knn\",k=10,kernel=\"sigmoid\",c3=-10,\n",
    "alpha4=0.001,gammaI = 0.05,gammaA = 0.05)\n",
    "# graph.type =enn, kernel =linear\n",
    "yu5<-sslLapRLS(xl,yl,xu,graph.type=\"enn\",epsilon=1,kernel=\"linear\",c1=1)\n",
    "# graph.type =enn, kernel =polynomial\n",
    "yu6<-sslLapRLS(xl,yl,xu,graph.type=\"enn\",epsilon=1,kernel=\"polynomial\",c2=1,deg=2,alpha3=1)\n",
    "# graph.type =enn, kernel =gaussian\n",
    "yu7<-sslLapRLS(xl,yl,xu,graph.type=\"enn\",epsilon=1,kernel=\"gaussian\",gamma=1)\n",
    "# graph.type =enn, kernel =sigmoid\n",
    "yu8<-sslLapRLS(xl,yl,xu,graph.type=\"enn\",epsilon=1,kernel=\"sigmoid\",c3=-10,\n",
    "alpha4=0.001,gammaI = 0.05,gammaA = 0.05)\n",
    "# graph.type =tanh, kernel =linear\n",
    "yu9<-sslLapRLS(xl,yl,xu,graph.type=\"tanh\",alpha1=-2,alpha2=1,kernel=\"linear\",c1=1)\n",
    "# graph.type =tanh, kernel =polynomial\n",
    "yu10<-sslLapRLS(xl,yl,xu,graph.type=\"tanh\",alpha1=-2,alpha2=1,\n",
    "kernel=\"polynomial\",c2=1,deg=2,alpha3=1)\n",
    "# graph.type =tanh, kernel =gaussian\n",
    "yu11<-sslLapRLS(xl,yl,xu,graph.type=\"tanh\",alpha1=-2,alpha2=1,kernel=\"gaussian\",gamma=1)\n",
    "# graph.type =tanh, kernel =sigmoid\n",
    "yu12<-sslLapRLS(xl,yl,xu,graph.type=\"tanh\",alpha1=-2,alpha2=1,\n",
    "kernel=\"sigmoid\",c3=-10,alpha4=0.001,gammaI = 0.05,gammaA = 0.05)\n",
    "# graph.type =exp, kernel =linear\n",
    "yu13<-sslLapRLS(xl,yl,xu,graph.type=\"exp\",alpha=1,kernel=\"linear\",c1=1)\n",
    "# graph.type =exp, kernel =polynomial\n",
    "yu14<-sslLapRLS(xl,yl,xu,graph.type=\"exp\",alpha=1,kernel=\"polynomial\",c2=1,deg=2,alpha3=1)\n",
    "# graph.type =exp, kernel =gaussian\n",
    "yu15<-sslLapRLS(xl,yl,xu,graph.type=\"exp\",alpha=1,kernel=\"gaussian\",gamma=1)\n",
    "# graph.type =exp, kernel =sigmoid\n",
    "yu16<-sslLapRLS(xl,yl,xu,graph.type=\"exp\",alpha=1,kernel=\"sigmoid\",\n",
    "c3=-10,alpha4=0.001,gammaI = 0.05,gammaA = 0.05)\n"
   ]
  },
  {
   "cell_type": "code",
   "execution_count": 12,
   "metadata": {},
   "outputs": [],
   "source": [
    "# Low Density Separation\n",
    "data(iris)\n",
    "xl<-iris[c(1:20,51:70),-5]\n",
    "xu<-iris[c(21:50,71:100),-5]\n",
    "yl<-rep(c(1,-1),each=20)\n",
    "l<-sslLDS(xl,yl,xu,alpha=0.1)"
   ]
  },
  {
   "cell_type": "code",
   "execution_count": 13,
   "metadata": {},
   "outputs": [],
   "source": [
    "# Local and Global Consistency\n",
    "data(iris)\n",
    "xl<-iris[c(1:20,51:70,101:120),-5]\n",
    "yl<-matrix(0,ncol=3,nrow=60)\n",
    "yl[1:20,1]<-1\n",
    "yl[21:40,2]<-1\n",
    "yl[41:60,3]<-1\n",
    "xu<-iris[-c(1:20,51:70,101:120),-5]\n",
    "yu<-sslLLGC(xl,yl,xu)"
   ]
  },
  {
   "cell_type": "code",
   "execution_count": 14,
   "metadata": {},
   "outputs": [],
   "source": [
    "# t-step Markov Random Walks\n",
    "data(iris)\n",
    "xl<-iris[c(1:20,51:70),-5]\n",
    "xu<-iris[c(21:50,71:100),-5]\n",
    "yl<-rep(c(1,-1),each=20)\n",
    "yu<-sslMarkovRandomWalks(xl,yl,xu)"
   ]
  },
  {
   "cell_type": "code",
   "execution_count": 15,
   "metadata": {},
   "outputs": [],
   "source": [
    "# Mincut\n",
    "data(iris)\n",
    "xl<-iris[c(1:20,51:70),-5]\n",
    "xu<-iris[c(21:50,71:100),-5]\n",
    "yl<-rep(c(1,-1),each=20)\n",
    "yu<-sslMincut(xl,yl,xu)"
   ]
  },
  {
   "cell_type": "code",
   "execution_count": 2,
   "metadata": {},
   "outputs": [],
   "source": [
    "# Regression on graphs\n",
    "data(iris)\n",
    "xl<-iris[c(1:20,51:70),-5]\n",
    "xu<-iris[c(21:50,71:100),-5]\n",
    "yl<-rep(c(1,-1),each=20)\n",
    "# Tikhonov regularization\n",
    "yu1<-sslRegress(xl,yl,xu,graph.type=\"tanh\",alpha1=-2,alpha2=1)\n",
    "yu2<-sslRegress(xl,yl,xu,graph.type=\"exp\",alpha = 1)\n",
    "# Interpolated regularization\n",
    "yu3<-sslRegress(xl,yl,xu,graph.type=\"tanh\",alpha1=-2,alpha2=1,method=\"Interpolated\")\n",
    "yu4<-sslRegress(xl,yl,xu,graph.type=\"exp\",alpha = 1,method=\"Interpolated\")"
   ]
  },
  {
   "cell_type": "code",
   "execution_count": 3,
   "metadata": {},
   "outputs": [],
   "source": [
    "# Self-Training\n",
    "data(iris)\n",
    "xl<-iris[,1:4]\n",
    "#Suppose we know the first twenty observations of each class\n",
    "#and we want to predict the remaining with self-training\n",
    "# 1 setosa, 2 versicolor, 3 virginica\n",
    "yl<-rep(1:3,each = 20)\n",
    "known.label <-c(1:20,51:70,101:120)\n",
    "xu<-xl[-known.label,]\n",
    "xl<-xl[known.label,]\n",
    "yu<-sslSelfTrain(xl,yl,xu,nrounds = 100,n=30)"
   ]
  },
  {
   "cell_type": "code",
   "execution_count": null,
   "metadata": {},
   "outputs": [],
   "source": []
  }
 ],
 "metadata": {
  "kernelspec": {
   "display_name": "R",
   "language": "R",
   "name": "ir"
  },
  "language_info": {
   "codemirror_mode": "r",
   "file_extension": ".r",
   "mimetype": "text/x-r-source",
   "name": "R",
   "pygments_lexer": "r",
   "version": "3.4.3"
  }
 },
 "nbformat": 4,
 "nbformat_minor": 2
}
