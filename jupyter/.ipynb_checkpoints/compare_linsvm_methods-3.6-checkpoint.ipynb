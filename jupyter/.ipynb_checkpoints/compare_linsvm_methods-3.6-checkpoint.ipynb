{
 "cells": [
  {
   "cell_type": "code",
   "execution_count": 1,
   "metadata": {},
   "outputs": [
    {
     "ename": "ModuleNotFoundError",
     "evalue": "No module named 'nlopt'",
     "output_type": "error",
     "traceback": [
      "\u001b[0;31m---------------------------------------------------------------------------\u001b[0m",
      "\u001b[0;31mModuleNotFoundError\u001b[0m                       Traceback (most recent call last)",
      "\u001b[0;32m<ipython-input-1-038ee2ce79a7>\u001b[0m in \u001b[0;36m<module>\u001b[0;34m()\u001b[0m\n\u001b[1;32m      9\u001b[0m \u001b[0;32mfrom\u001b[0m \u001b[0mexamples\u001b[0m\u001b[0;34m.\u001b[0m\u001b[0mplotutils\u001b[0m \u001b[0;32mimport\u001b[0m \u001b[0mevaluate_and_plot\u001b[0m\u001b[0;34m\u001b[0m\u001b[0m\n\u001b[1;32m     10\u001b[0m \u001b[0;34m\u001b[0m\u001b[0m\n\u001b[0;32m---> 11\u001b[0;31m \u001b[0;32mfrom\u001b[0m \u001b[0msemisup_learn\u001b[0m\u001b[0;34m.\u001b[0m\u001b[0mframeworks\u001b[0m\u001b[0;34m.\u001b[0m\u001b[0mCPLELearning\u001b[0m \u001b[0;32mimport\u001b[0m \u001b[0mCPLELearningModel\u001b[0m\u001b[0;34m\u001b[0m\u001b[0m\n\u001b[0m\u001b[1;32m     12\u001b[0m \u001b[0;32mfrom\u001b[0m \u001b[0msemisup_learn\u001b[0m\u001b[0;34m.\u001b[0m\u001b[0mmethods\u001b[0m \u001b[0;32mimport\u001b[0m \u001b[0mscikitTSVM\u001b[0m\u001b[0;34m\u001b[0m\u001b[0m\n\u001b[1;32m     13\u001b[0m \u001b[0;34m\u001b[0m\u001b[0m\n",
      "\u001b[0;32m/home/jose/.local/lib/python3.6/site-packages/semisup_learn/frameworks/CPLELearning.py\u001b[0m in \u001b[0;36m<module>\u001b[0;34m()\u001b[0m\n\u001b[1;32m     19\u001b[0m \u001b[0;32mimport\u001b[0m \u001b[0msklearn\u001b[0m\u001b[0;34m.\u001b[0m\u001b[0mmetrics\u001b[0m\u001b[0;34m\u001b[0m\u001b[0m\n\u001b[1;32m     20\u001b[0m \u001b[0;32mfrom\u001b[0m \u001b[0msklearn\u001b[0m\u001b[0;34m.\u001b[0m\u001b[0mlinear_model\u001b[0m \u001b[0;32mimport\u001b[0m \u001b[0mLogisticRegression\u001b[0m \u001b[0;32mas\u001b[0m \u001b[0mLR\u001b[0m\u001b[0;34m\u001b[0m\u001b[0m\n\u001b[0;32m---> 21\u001b[0;31m \u001b[0;32mimport\u001b[0m \u001b[0mnlopt\u001b[0m\u001b[0;34m\u001b[0m\u001b[0m\n\u001b[0m\u001b[1;32m     22\u001b[0m \u001b[0;32mimport\u001b[0m \u001b[0mscipy\u001b[0m\u001b[0;34m.\u001b[0m\u001b[0mstats\u001b[0m\u001b[0;34m\u001b[0m\u001b[0m\n\u001b[1;32m     23\u001b[0m \u001b[0;32mfrom\u001b[0m \u001b[0msix\u001b[0m \u001b[0;32mimport\u001b[0m \u001b[0munichr\u001b[0m\u001b[0;34m\u001b[0m\u001b[0m\n",
      "\u001b[0;31mModuleNotFoundError\u001b[0m: No module named 'nlopt'"
     ]
    }
   ],
   "source": [
    "import numpy as np\n",
    "import sklearn.svm\n",
    "from six import print_ as print_function\n",
    "\n",
    "# Para importar un .py que est en un directorio cualquiera\n",
    "import sys \n",
    "import os\n",
    "sys.path.append(os.path.abspath(\"/media/jose/Linux/master-ci/semi-supervised/semisup-learn-master/\"))\n",
    "from examples.plotutils import evaluate_and_plot\n",
    "\n",
    "from semisup_learn.frameworks.CPLELearning import CPLELearningModel\n",
    "from semisup_learn.methods import scikitTSVM\n",
    "\n",
    "kernel = \"linear\"\n",
    "\n",
    "# number of data points\n",
    "N = 60\n",
    "supevised_data_points = 2\n",
    "noise_probability = 0.1\n",
    "\n",
    "# generate data-\n",
    "cov = [[0.5, 0], [0, 0.5]]\n",
    "Xs = np.random.multivariate_normal([0.5, 0.5], cov, (N,))\n",
    "ytrue = []\n",
    "for i in range(N):\n",
    "    if np.random.random() < noise_probability:\n",
    "        ytrue.append(np.random.randint(2))\n",
    "    else:\n",
    "        ytrue.append(1 if np.sum(Xs[i]) > 1 else 0)\n",
    "Xs = np.array(Xs)\n",
    "ytrue = np.array(ytrue).astype(int)\n",
    "\n",
    "ys = np.array([-1] * N)\n",
    "sidx = np.append(np.random.choice(np.where(ytrue == 0)[0], supevised_data_points // 2),\n",
    "                 np.random.choice(np.where(ytrue == 1)[0], supevised_data_points // 2))\n",
    "ys[sidx] = ytrue[sidx]\n",
    "\n",
    "Xsupervised = Xs[ys != -1, :]\n",
    "ysupervised = ys[ys != -1]\n",
    "\n",
    "# compare models     \n",
    "lbl = \"Purely supervised SVM:\"\n",
    "print(lbl)\n",
    "model = sklearn.svm.SVC(kernel=kernel, probability=True)\n",
    "model.fit(Xsupervised, ysupervised)\n",
    "evaluate_and_plot(model, Xs, ys, ytrue, lbl, 1)\n",
    "\n",
    "lbl = \"S3VM (Gieseke et al. 2012):\"\n",
    "print(lbl)\n",
    "model = scikitTSVM.SKTSVM(kernel=kernel)\n",
    "model.fit(Xs, ys.astype(int))\n",
    "evaluate_and_plot(model, Xs, ys, ytrue, lbl, 2)\n",
    "\n",
    "lbl = \"CPLE(pessimistic) SVM:\"\n",
    "print(lbl)\n",
    "model = CPLELearningModel(sklearn.svm.SVC(kernel=kernel, probability=True), predict_from_probabilities=True)\n",
    "model.fit(Xs, ys.astype(int))\n",
    "evaluate_and_plot(model, Xs, ys, ytrue, lbl, 3)\n",
    "\n",
    "lbl = \"CPLE(optimistic) SVM:\"\n",
    "print(lbl)\n",
    "CPLELearningModel.pessimistic = False\n",
    "model = CPLELearningModel(sklearn.svm.SVC(kernel=kernel, probability=True), predict_from_probabilities=True)\n",
    "model.fit(Xs, ys.astype(int))\n",
    "evaluate_and_plot(model, Xs, ys, ytrue, lbl, 4, block=True)\n"
   ]
  },
  {
   "cell_type": "code",
   "execution_count": null,
   "metadata": {},
   "outputs": [],
   "source": []
  }
 ],
 "metadata": {
  "kernelspec": {
   "display_name": "Python 3",
   "language": "python",
   "name": "python3"
  },
  "language_info": {
   "codemirror_mode": {
    "name": "ipython",
    "version": 3
   },
   "file_extension": ".py",
   "mimetype": "text/x-python",
   "name": "python",
   "nbconvert_exporter": "python",
   "pygments_lexer": "ipython3",
   "version": "3.6.4"
  }
 },
 "nbformat": 4,
 "nbformat_minor": 2
}
