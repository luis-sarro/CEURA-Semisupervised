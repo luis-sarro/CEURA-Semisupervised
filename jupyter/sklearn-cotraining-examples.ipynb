{
 "cells": [
  {
   "cell_type": "markdown",
   "metadata": {},
   "source": [
    "# Sklearn-cotraining examples\n",
    "\n",
    "Este notebook está constituido por una serie de ejemplos de semi-supervised cotraining usando el módulo sklearn_cotraining https://github.com/jjrob13/sklearn_cotraining. La implementación sigue las ideas expuestas en \"Combining labeled and unlabeled data with co-training\" (Blue, Mitchell 1998) https://www.cs.cmu.edu/~avrim/Papers/cotrain.pdf. El módulo ya importa numpy as np, random y copy.\n",
    "\n",
    "Los archivos \\__init__\\.py del módulo original han sido adaptados para poderse utilizar usando una instalación no local, cambiada la importación de CoTrainingClassifier, también adaptado a Python 3. El ejemplo de uso de SVM ha sido corregido, usaba base_lr.predict en lugar de base_svm.predict."
   ]
  },
  {
   "cell_type": "code",
   "execution_count": 1,
   "metadata": {},
   "outputs": [],
   "source": [
    "from sklearn.linear_model import LogisticRegression\n",
    "from sklearn.svm import LinearSVC\n",
    "from sklearn.metrics import classification_report\n",
    "from sklearn.datasets import make_classification\n",
    "from sklearn_cotraining.classifiers import CoTrainingClassifier"
   ]
  },
  {
   "cell_type": "code",
   "execution_count": 2,
   "metadata": {},
   "outputs": [],
   "source": [
    "N_SAMPLES = 25000\n",
    "N_FEATURES = 1000\n",
    "X, y = make_classification(n_samples=N_SAMPLES, n_features=N_FEATURES)\n",
    "\n",
    "y[:N_SAMPLES//2] = -1\n",
    "\n",
    "X_test = X[-N_SAMPLES//4:]\n",
    "y_test = y[-N_SAMPLES//4:]\n",
    "\n",
    "X_labeled = X[N_SAMPLES//2:-N_SAMPLES//4]\n",
    "y_labeled = y[N_SAMPLES//2:-N_SAMPLES//4]\n",
    "\n",
    "y = y[:-N_SAMPLES//4]\n",
    "X = X[:-N_SAMPLES//4]\n",
    "\n",
    "\n",
    "X1 = X[:,:N_FEATURES // 2]\n",
    "X2 = X[:, N_FEATURES // 2:]"
   ]
  },
  {
   "cell_type": "code",
   "execution_count": 3,
   "metadata": {},
   "outputs": [
    {
     "name": "stdout",
     "output_type": "stream",
     "text": [
      "Logistic\n",
      "             precision    recall  f1-score   support\n",
      "\n",
      "          0       0.87      0.87      0.87      3088\n",
      "          1       0.87      0.87      0.87      3162\n",
      "\n",
      "avg / total       0.87      0.87      0.87      6250\n",
      "\n"
     ]
    }
   ],
   "source": [
    "print ('Logistic')\n",
    "base_lr = LogisticRegression()\n",
    "base_lr.fit(X_labeled, y_labeled)\n",
    "y_pred = base_lr.predict(X_test)\n",
    "print (classification_report(y_test, y_pred))"
   ]
  },
  {
   "cell_type": "code",
   "execution_count": 4,
   "metadata": {},
   "outputs": [
    {
     "name": "stdout",
     "output_type": "stream",
     "text": [
      "Logistic CoTraining\n",
      "             precision    recall  f1-score   support\n",
      "\n",
      "          0       0.92      0.93      0.92      3088\n",
      "          1       0.93      0.92      0.93      3162\n",
      "\n",
      "avg / total       0.93      0.93      0.93      6250\n",
      "\n"
     ]
    }
   ],
   "source": [
    "print ('Logistic CoTraining')\n",
    "lg_co_clf = CoTrainingClassifier(LogisticRegression())\n",
    "lg_co_clf.fit(X1, X2, y)\n",
    "y_pred = lg_co_clf.predict(X_test[:, :N_FEATURES // 2], X_test[:, N_FEATURES // 2:])\n",
    "print (classification_report(y_test, y_pred))"
   ]
  },
  {
   "cell_type": "code",
   "execution_count": 5,
   "metadata": {},
   "outputs": [
    {
     "name": "stdout",
     "output_type": "stream",
     "text": [
      "SVM\n",
      "             precision    recall  f1-score   support\n",
      "\n",
      "          0       0.86      0.86      0.86      3088\n",
      "          1       0.87      0.86      0.87      3162\n",
      "\n",
      "avg / total       0.86      0.86      0.86      6250\n",
      "\n"
     ]
    }
   ],
   "source": [
    "print ('SVM')\n",
    "base_svm = LinearSVC()\n",
    "base_svm.fit(X_labeled, y_labeled)\n",
    "y_pred = base_svm.predict(X_test)\n",
    "print (classification_report(y_test, y_pred))"
   ]
  },
  {
   "cell_type": "code",
   "execution_count": 6,
   "metadata": {},
   "outputs": [
    {
     "name": "stdout",
     "output_type": "stream",
     "text": [
      "SVM CoTraining\n",
      "             precision    recall  f1-score   support\n",
      "\n",
      "          0       0.91      0.91      0.91      3088\n",
      "          1       0.92      0.91      0.91      3162\n",
      "\n",
      "avg / total       0.91      0.91      0.91      6250\n",
      "\n"
     ]
    }
   ],
   "source": [
    "print ('SVM CoTraining')\n",
    "svm_co_clf = CoTrainingClassifier(LinearSVC(), u=N_SAMPLES//10)\n",
    "svm_co_clf.fit(X1, X2, y)\n",
    "y_pred = svm_co_clf.predict(X_test[:, :N_FEATURES // 2], X_test[:, N_FEATURES // 2:])\n",
    "print (classification_report(y_test, y_pred))"
   ]
  },
  {
   "cell_type": "code",
   "execution_count": 7,
   "metadata": {},
   "outputs": [
    {
     "name": "stdout",
     "output_type": "stream",
     "text": [
      "SVM CoTraining Logistic\n",
      "             precision    recall  f1-score   support\n",
      "\n",
      "          0       0.91      0.91      0.91      3088\n",
      "          1       0.92      0.91      0.91      3162\n",
      "\n",
      "avg / total       0.91      0.91      0.91      6250\n",
      "\n"
     ]
    }
   ],
   "source": [
    "print ('SVM CoTraining Logistic')\n",
    "svm_co_lg_clf = CoTrainingClassifier(LinearSVC(), clf2 = LogisticRegression(), u=N_SAMPLES//10)\n",
    "svm_co_lg_clf.fit(X1, X2, y)\n",
    "y_pred = svm_co_lg_clf.predict(X_test[:, :N_FEATURES // 2], X_test[:, N_FEATURES // 2:])\n",
    "print (classification_report(y_test, y_pred))"
   ]
  },
  {
   "cell_type": "code",
   "execution_count": 8,
   "metadata": {},
   "outputs": [
    {
     "name": "stdout",
     "output_type": "stream",
     "text": [
      "Logistic CoTraining SVM\n",
      "             precision    recall  f1-score   support\n",
      "\n",
      "          0       0.91      0.92      0.91      3088\n",
      "          1       0.92      0.91      0.92      3162\n",
      "\n",
      "avg / total       0.91      0.91      0.91      6250\n",
      "\n"
     ]
    }
   ],
   "source": [
    "print ('Logistic CoTraining SVM')\n",
    "lg_co_svm_clf = CoTrainingClassifier(LogisticRegression(), clf2 = LinearSVC())\n",
    "lg_co_svm_clf.fit(X1, X2, y)\n",
    "y_pred = lg_co_svm_clf.predict(X_test[:, :N_FEATURES // 2], X_test[:, N_FEATURES // 2:])\n",
    "print (classification_report(y_test, y_pred))"
   ]
  },
  {
   "cell_type": "code",
   "execution_count": null,
   "metadata": {},
   "outputs": [],
   "source": []
  }
 ],
 "metadata": {
  "kernelspec": {
   "display_name": "Python 3",
   "language": "python",
   "name": "python3"
  },
  "language_info": {
   "codemirror_mode": {
    "name": "ipython",
    "version": 3
   },
   "file_extension": ".py",
   "mimetype": "text/x-python",
   "name": "python",
   "nbconvert_exporter": "python",
   "pygments_lexer": "ipython3",
   "version": "3.6.4"
  }
 },
 "nbformat": 4,
 "nbformat_minor": 2
}
