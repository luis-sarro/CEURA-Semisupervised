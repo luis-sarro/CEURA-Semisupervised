{
 "cells": [
  {
   "cell_type": "markdown",
   "metadata": {},
   "source": [
    "# Package ‘SSL’\n",
    "\n",
    "Type Package<br>\n",
    "Title Semi-Supervised Learning<br>\n",
    "Version 0.1<br>\n",
    "Date 2016-05-01<br>\n",
    "Author Junxiang Wang<br>\n",
    "Maintainer Junxiang Wang <xianggebenben@163.com><br>\n",
    "Description Semi-supervised learning has attracted the attention of machine learning community because of its high accuracy with less annotating effort compared with supervised learning.The question that semi-supervised learning wants to address is: given a relatively small labeled dataset and a large unlabeled dataset, how to design classification algorithms learning from both ? This package is a collection of some classical semi-supervised learning algorithms in the last few decades.<br>\n",
    "License GPL (>= 3)<br>\n",
    "LazyData TRUE<br>\n",
    "RoxygenNote 5.0.1<br>\n",
    "Depends R (>= 3.2)<br>\n",
    "Imports NetPreProc (>= 1.1), Rcpp (>= 0.12.2), caret (>= 6.0-52),\n",
    "proxy (>= 0.4-15), xgboost (>= 0.4), klaR (>= 0.6-12), e1071\n",
    "(>= 1.6-7), stats (>= 3.2)<br>\n",
    "LinkingTo Rcpp<br>\n",
    "NeedsCompilation yes<br>\n",
    "Repository CRAN<br>\n",
    "Date/Publication 2016-05-14 23:12:09<br>\n",
    "\n",
    "## Algoritmos usados en este notebook\n",
    "1. sslCoTrain"
   ]
  },
  {
   "cell_type": "code",
   "execution_count": 20,
   "metadata": {},
   "outputs": [],
   "source": [
    "library(SSL)\n",
    "library(caret)"
   ]
  },
  {
   "cell_type": "code",
   "execution_count": 21,
   "metadata": {},
   "outputs": [],
   "source": [
    "conf_matrix_statistics <- function(yl, yu, ytrue, known.label) {\n",
    "    ytrue_l<-ytrue[known.label]\n",
    "    ytrue_u<-ytrue[-known.label]\n",
    "\n",
    "    xtab <- table(c(yl, yu), c(ytrue_l, ytrue_u))\n",
    "    results <- confusionMatrix(xtab)\n",
    "    print(prop.table(as.matrix(results), margin = 1))\n",
    "    print(as.matrix(results, what = \"overall\"))\n",
    "    print(as.matrix(results, what = \"classes\"))\n",
    "    return(results)\n",
    "}"
   ]
  },
  {
   "cell_type": "markdown",
   "metadata": {},
   "source": [
    "# Cargando datos"
   ]
  },
  {
   "cell_type": "code",
   "execution_count": 22,
   "metadata": {},
   "outputs": [],
   "source": [
    "data(iris)\n",
    "x<-iris[,1:4]\n",
    "ytrue<-as.numeric(iris[,5])\n",
    "#Suppose we know the first \"num_labelled\" observations of each class\n",
    "#and we want to predict the remaining with co-training\n",
    "# 1 setosa, 2 versicolor, 3 virginica\n",
    "num_labelled = 10\n",
    "yl<-rep(1:3,each=num_labelled)\n",
    "known.label <-c(1:num_labelled,51:(50+num_labelled),101:(100+num_labelled))\n",
    "xu<-x[-known.label,]\n",
    "xl<-x[known.label,]"
   ]
  },
  {
   "cell_type": "code",
   "execution_count": 23,
   "metadata": {},
   "outputs": [
    {
     "name": "stdout",
     "output_type": "stream",
     "text": [
      "  1    2    3\n",
      "1 1 0.00 0.00\n",
      "2 0 0.92 0.08\n",
      "3 0 0.08 0.92\n",
      "                       [,1]\n",
      "Accuracy       9.466667e-01\n",
      "Kappa          9.200000e-01\n",
      "AccuracyLower  8.976181e-01\n",
      "AccuracyUpper  9.766962e-01\n",
      "AccuracyNull   3.333333e-01\n",
      "AccuracyPValue 3.741810e-57\n",
      "McnemarPValue           NaN\n",
      "                             1         2         3\n",
      "Sensitivity          1.0000000 0.9200000 0.9200000\n",
      "Specificity          1.0000000 0.9600000 0.9600000\n",
      "Pos Pred Value       1.0000000 0.9200000 0.9200000\n",
      "Neg Pred Value       1.0000000 0.9600000 0.9600000\n",
      "Precision            1.0000000 0.9200000 0.9200000\n",
      "Recall               1.0000000 0.9200000 0.9200000\n",
      "F1                   1.0000000 0.9200000 0.9200000\n",
      "Prevalence           0.3333333 0.3333333 0.3333333\n",
      "Detection Rate       0.3333333 0.3066667 0.3066667\n",
      "Detection Prevalence 0.3333333 0.3333333 0.3333333\n",
      "Balanced Accuracy    1.0000000 0.9400000 0.9400000\n"
     ]
    }
   ],
   "source": [
    "# Co-training\n",
    "yu<-sslCoTrain(xl,yl,xu,method1=\"xgb\",nrounds1 = 100,method2=\"xgb\",nrounds2 = 100,n=60)\n",
    "\n",
    "stats <- conf_matrix_statistics(yl, yu, ytrue, known.label)"
   ]
  }
 ],
 "metadata": {
  "kernelspec": {
   "display_name": "R",
   "language": "R",
   "name": "ir"
  },
  "language_info": {
   "codemirror_mode": "r",
   "file_extension": ".r",
   "mimetype": "text/x-r-source",
   "name": "R",
   "pygments_lexer": "r",
   "version": "3.4.3"
  }
 },
 "nbformat": 4,
 "nbformat_minor": 2
}
